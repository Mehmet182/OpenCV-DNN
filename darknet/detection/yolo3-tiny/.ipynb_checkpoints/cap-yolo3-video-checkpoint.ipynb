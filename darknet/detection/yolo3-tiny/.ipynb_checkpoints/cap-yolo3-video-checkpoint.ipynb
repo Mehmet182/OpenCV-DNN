{
 "cells": [
  {
   "cell_type": "code",
   "execution_count": 1,
   "id": "a407b98d-07a7-49bf-aecf-f1b8369ad848",
   "metadata": {},
   "outputs": [],
   "source": [
    "import cv2\n",
    "import numpy as np"
   ]
  },
  {
   "cell_type": "code",
   "execution_count": 2,
   "id": "caa2be22-17b7-4586-b262-6e80d52bbb04",
   "metadata": {},
   "outputs": [],
   "source": [
    "# Yolov4 yapılandırma ve ağırlıkları\n",
    "config_path = \"models/yolo4/yolov4.cfg\"\n",
    "weights_path = \"models/yolo4/yolov4.weights\"\n",
    "classes_path = \"models/yolo4/coco.names\"\n",
    "\n",
    "image_path   = \"101_2.png\""
   ]
  },
  {
   "cell_type": "code",
   "execution_count": 3,
   "id": "e3b6746b-0162-4219-ad0c-356ffcead42a",
   "metadata": {},
   "outputs": [],
   "source": [
    "# Sınıf isimlerini oku\n",
    "with open(classes_path, \"r\") as f:\n",
    "    class_names = [line.strip() for line in f.readlines()]\n",
    "\n"
   ]
  },
  {
   "cell_type": "code",
   "execution_count": 4,
   "id": "7a9a401d-fd12-400e-adbe-db1fa96f9813",
   "metadata": {},
   "outputs": [
    {
     "name": "stdout",
     "output_type": "stream",
     "text": [
      "['person', 'bicycle', 'car', 'motorbike', 'aeroplane', 'bus', 'train', 'truck', 'boat', 'traffic light', 'fire hydrant', 'stop sign', 'parking meter', 'bench', 'bird', 'cat', 'dog', 'horse', 'sheep', 'cow', 'elephant', 'bear', 'zebra', 'giraffe', 'backpack', 'umbrella', 'handbag', 'tie', 'suitcase', 'frisbee', 'skis', 'snowboard', 'sports ball', 'kite', 'baseball bat', 'baseball glove', 'skateboard', 'surfboard', 'tennis racket', 'bottle', 'wine glass', 'cup', 'fork', 'knife', 'spoon', 'bowl', 'banana', 'apple', 'sandwich', 'orange', 'broccoli', 'carrot', 'hot dog', 'pizza', 'donut', 'cake', 'chair', 'sofa', 'pottedplant', 'bed', 'diningtable', 'toilet', 'tvmonitor', 'laptop', 'mouse', 'remote', 'keyboard', 'cell phone', 'microwave', 'oven', 'toaster', 'sink', 'refrigerator', 'book', 'clock', 'vase', 'scissors', 'teddy bear', 'hair drier', 'toothbrush']\n"
     ]
    }
   ],
   "source": [
    "print(class_names)"
   ]
  },
  {
   "cell_type": "code",
   "execution_count": 12,
   "id": "ecbbdf92-75ee-42ac-a098-02c6f27aa23b",
   "metadata": {},
   "outputs": [],
   "source": [
    "# Ağ modeli yükle\n",
    "net = cv2.dnn.readNetFromDarknet(config_path, weights_path)"
   ]
  },
  {
   "cell_type": "code",
   "execution_count": 6,
   "id": "d9373845-a4d8-419c-97ec-2ed176f17906",
   "metadata": {},
   "outputs": [],
   "source": [
    "net.setPreferableBackend(cv2.dnn.DNN_BACKEND_OPENCV)  # CPU kullanılır\n",
    "net.setPreferableTarget(cv2.dnn.DNN_TARGET_CPU)"
   ]
  },
  {
   "cell_type": "code",
   "execution_count": 30,
   "id": "b4fac624-d7bc-4b54-9ff9-72c70293aba9",
   "metadata": {},
   "outputs": [],
   "source": [
    "def load_yolo_model(device,net):\n",
    "    if device == \"GPU\":\n",
    "        net.setPreferableBackend(cv.dnn.DNN_BACKEND_CUDA)\n",
    "        net.setPreferableTarget(cv.dnn.DNN_TARGET_CUDA)\n",
    "    else:\n",
    "        net.setPreferableBackend(cv.dnn.DNN_BACKEND_OPENCV)\n",
    "        net.setPreferableTarget(cv.dnn.DNN_TARGET_CPU)\n",
    "\n",
    "    return net\n"
   ]
  },
  {
   "cell_type": "code",
   "execution_count": 37,
   "id": "208bc801-dd8c-406e-8908-ed6302b621e9",
   "metadata": {},
   "outputs": [],
   "source": [
    "device=\"GPU\""
   ]
  },
  {
   "cell_type": "code",
   "execution_count": 38,
   "id": "80612da5-74a0-4d28-b36a-4686f624c4c7",
   "metadata": {},
   "outputs": [
    {
     "data": {
      "text/plain": [
       "< cv2.dnn.Net 0000024352982370>"
      ]
     },
     "execution_count": 38,
     "metadata": {},
     "output_type": "execute_result"
    }
   ],
   "source": [
    "load_yolo_model(device,net)"
   ]
  },
  {
   "cell_type": "code",
   "execution_count": 13,
   "id": "78207bff-f280-47b4-98f6-f0772d1c26dd",
   "metadata": {},
   "outputs": [],
   "source": [
    "cap = cv2.VideoCapture(\"http://204.106.237.68:88/mjpg/1/video.mjpg\")\n"
   ]
  },
  {
   "cell_type": "code",
   "execution_count": 14,
   "id": "b41c9173-049c-4470-99c1-3e22dd78e17a",
   "metadata": {},
   "outputs": [],
   "source": [
    "layer_names = net.getLayerNames()\n",
    "output_layers = [layer_names[i - 1] for i in net.getUnconnectedOutLayers().flatten()]\n"
   ]
  },
  {
   "cell_type": "code",
   "execution_count": 15,
   "id": "53dc808c-7ec0-44c6-b5c3-b1e47f0942e1",
   "metadata": {},
   "outputs": [],
   "source": [
    "while True:\n",
    "    ret, frame = cap.read()\n",
    "    if not ret:\n",
    "        break\n",
    "\n",
    "    height, width = frame.shape[:2]\n",
    "\n",
    "    # Blob (ön işlem)\n",
    "    blob = cv2.dnn.blobFromImage(frame, 1 / 255.0, (416, 416), swapRB=True, crop=False)\n",
    "    net.setInput(blob)\n",
    "    outputs = net.forward(output_layers)\n",
    "\n",
    "    # Tespitleri işle\n",
    "    boxes, confidences, class_ids = [], [], []\n",
    "    conf_threshold = 0.5\n",
    "    nms_threshold = 0.4\n",
    "\n",
    "    for output in outputs:\n",
    "        for detection in output:\n",
    "            scores = detection[5:]\n",
    "            class_id = np.argmax(scores)\n",
    "            confidence = scores[class_id]\n",
    "            if confidence > conf_threshold:\n",
    "                center_x, center_y, w, h = (detection[0:4] * [width, height, width, height]).astype(\"int\")\n",
    "                x = int(center_x - w / 2)\n",
    "                y = int(center_y - h / 2)\n",
    "                boxes.append([x, y, int(w), int(h)])\n",
    "                confidences.append(float(confidence))\n",
    "                class_ids.append(class_id)\n",
    "\n",
    "    indices = cv2.dnn.NMSBoxes(boxes, confidences, conf_threshold, nms_threshold)\n",
    "\n",
    "    for i in indices:\n",
    "        i = i[0] if isinstance(i, (list, tuple, np.ndarray)) else i\n",
    "        x, y, w, h = boxes[i]\n",
    "        label = f\"{class_names[class_ids[i]]}: {confidences[i]:.2f}\"\n",
    "        cv2.rectangle(frame, (x, y), (x + w, y + h), (0, 255, 0), 2)\n",
    "        cv2.putText(frame, label, (x, y - 10), cv2.FONT_HERSHEY_SIMPLEX, 0.6, (0, 255, 0), 2)\n",
    "\n",
    "    # Ekrana göster\n",
    "    cv2.imshow(\"YOLOv4 Live Detection\", frame)\n",
    "\n",
    "    # q tuşuyla çık\n",
    "    if cv2.waitKey(1) & 0xFF == ord('q'):\n",
    "        break"
   ]
  },
  {
   "cell_type": "code",
   "execution_count": null,
   "id": "193d2ac1-346b-4aed-a8c5-3103b830fd40",
   "metadata": {},
   "outputs": [],
   "source": [
    "\n",
    "# Temizlik\n",
    "cap.release()\n",
    "cv2.destroyAllWindows()"
   ]
  },
  {
   "cell_type": "code",
   "execution_count": null,
   "id": "a92c737e-f4cd-4e24-b938-651e50a42dee",
   "metadata": {},
   "outputs": [],
   "source": []
  }
 ],
 "metadata": {
  "kernelspec": {
   "display_name": "Python (opencv_env)",
   "language": "python",
   "name": "opencv_env"
  },
  "language_info": {
   "codemirror_mode": {
    "name": "ipython",
    "version": 3
   },
   "file_extension": ".py",
   "mimetype": "text/x-python",
   "name": "python",
   "nbconvert_exporter": "python",
   "pygments_lexer": "ipython3",
   "version": "3.10.18"
  }
 },
 "nbformat": 4,
 "nbformat_minor": 5
}
