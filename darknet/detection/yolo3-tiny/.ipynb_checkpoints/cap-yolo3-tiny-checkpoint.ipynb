{
 "cells": [
  {
   "cell_type": "code",
   "execution_count": null,
   "id": "a407b98d-07a7-49bf-aecf-f1b8369ad848",
   "metadata": {
    "jupyter": {
     "is_executing": true
    }
   },
   "outputs": [],
   "source": [
    "import cv2\n",
    "import numpy as np\n",
    "import os"
   ]
  },
  {
   "cell_type": "code",
   "execution_count": null,
   "id": "caa2be22-17b7-4586-b262-6e80d52bbb04",
   "metadata": {},
   "outputs": [],
   "source": [
    "# Yolov4 yapılandırma ve ağırlıkları\n",
    "config_path = \"yolov3-tiny.cfg\"\n",
    "weights_path = \"yolov3-tiny-prn.weights\"\n",
    "classes_path = \"yolo11l-seg.txt\"\n",
    "\n",
    "image_path   = \"car.jpg\""
   ]
  },
  {
   "cell_type": "code",
   "execution_count": null,
   "id": "d5f1d719-cee0-48e1-9873-2777603b9019",
   "metadata": {},
   "outputs": [],
   "source": [
    "print(\"Current Working Directory:\", os.getcwd())\n",
    "print(\"Prototxt Dosyası Var mı?:\", os.path.exists(config_path))\n",
    "print(\"Model Dosyası Var mı?:\", os.path.exists(weights_path))\n",
    "print(\"class Dosyası Var mı?:\", os.path.exists(classes_path))\n",
    "print(\"img Dosyası Var mı?:\", os.path.exists(image_path))"
   ]
  },
  {
   "cell_type": "code",
   "execution_count": null,
   "id": "e3b6746b-0162-4219-ad0c-356ffcead42a",
   "metadata": {},
   "outputs": [],
   "source": [
    "# Sınıf isimlerini oku\n",
    "with open(classes_path, \"r\") as f:\n",
    "    class_names = [line.strip() for line in f.readlines()]\n",
    "\n"
   ]
  },
  {
   "cell_type": "code",
   "execution_count": null,
   "id": "7a9a401d-fd12-400e-adbe-db1fa96f9813",
   "metadata": {},
   "outputs": [],
   "source": [
    "print(class_names)"
   ]
  },
  {
   "cell_type": "code",
   "execution_count": null,
   "id": "ecbbdf92-75ee-42ac-a098-02c6f27aa23b",
   "metadata": {},
   "outputs": [],
   "source": [
    "# Ağ modeli yükle\n",
    "net = cv2.dnn.readNetFromDarknet(config_path, weights_path)\n",
    "\n",
    "\n",
    "net.setPreferableBackend(cv2.dnn.DNN_BACKEND_OPENCV)  # CPU kullanılır\n",
    "net.setPreferableTarget(cv2.dnn.DNN_TARGET_CPU)\n",
    "\n"
   ]
  },
  {
   "cell_type": "code",
   "execution_count": null,
   "id": "78207bff-f280-47b4-98f6-f0772d1c26dd",
   "metadata": {},
   "outputs": [],
   "source": [
    "# Resmi oku\n",
    "img = cv2.imread(image_path)\n",
    "height, width = img.shape[:2]\n",
    "\n"
   ]
  },
  {
   "cell_type": "code",
   "execution_count": null,
   "id": "b41c9173-049c-4470-99c1-3e22dd78e17a",
   "metadata": {},
   "outputs": [],
   "source": [
    "# Girdi için blob hazırla\n",
    "blob = cv2.dnn.blobFromImage(img, 1/255.0, (416, 416), swapRB=True, crop=False)\n",
    "net.setInput(blob)\n",
    "\n"
   ]
  },
  {
   "cell_type": "code",
   "execution_count": null,
   "id": "53dc808c-7ec0-44c6-b5c3-b1e47f0942e1",
   "metadata": {},
   "outputs": [],
   "source": [
    "# Çıkış katmanlarının adını al\n",
    "layer_names = net.getLayerNames()\n",
    "output_layers = [layer_names[i - 1] for i in net.getUnconnectedOutLayers().flatten()]\n",
    "\n"
   ]
  },
  {
   "cell_type": "code",
   "execution_count": null,
   "id": "18274689-1279-4514-ba64-b0c4a25ca040",
   "metadata": {},
   "outputs": [],
   "source": [
    "# İleri yayılım (forward)\n",
    "outputs = net.forward(output_layers)\n",
    "\n"
   ]
  },
  {
   "cell_type": "code",
   "execution_count": null,
   "id": "0cad17be-40ab-450c-940b-5bedf725ce34",
   "metadata": {},
   "outputs": [],
   "source": [
    "# Tespitleri işle\n",
    "conf_threshold = 0.5\n",
    "nms_threshold = 0.4\n",
    "boxes, confidences, class_ids = [], [], []\n",
    "\n"
   ]
  },
  {
   "cell_type": "code",
   "execution_count": null,
   "id": "6d470375-c35f-45be-861c-e657c931a9e0",
   "metadata": {},
   "outputs": [],
   "source": [
    "for output in outputs:\n",
    "    for detection in output:\n",
    "        scores = detection[5:]\n",
    "        class_id = np.argmax(scores)\n",
    "        confidence = scores[class_id]\n",
    "        if confidence > conf_threshold:\n",
    "            center_x, center_y, w, h = (detection[0:4] * [width, height, width, height]).astype(\"int\")\n",
    "            x = int(center_x - w / 2)\n",
    "            y = int(center_y - h / 2)\n",
    "            boxes.append([x, y, int(w), int(h)])\n",
    "            confidences.append(float(confidence))\n",
    "            class_ids.append(class_id)\n",
    "\n"
   ]
  },
  {
   "cell_type": "code",
   "execution_count": null,
   "id": "6e35922a-2557-43ca-a223-73ed361649dd",
   "metadata": {},
   "outputs": [],
   "source": [
    "# NMS (Gereksiz kutuları filtreleme)\n",
    "indices = cv2.dnn.NMSBoxes(boxes, confidences, conf_threshold, nms_threshold)\n",
    "\n",
    "for i in range(len(indices)):\n",
    "    i = indices[i][0] if isinstance(indices[i], (list, tuple, np.ndarray)) else indices[i]\n",
    "    x, y, w, h = boxes[i]\n",
    "    label = f\"{class_names[class_ids[i]]}: {confidences[i]:.2f}\"\n",
    "    cv2.rectangle(img, (x, y), (x + w, y + h), (0, 255, 0), 2)\n",
    "    cv2.putText(img, label, (x, y - 5), cv2.FONT_HERSHEY_SIMPLEX, 0.5, (0, 255, 0), 2)"
   ]
  },
  {
   "cell_type": "code",
   "execution_count": null,
   "id": "9992886e-f418-47ff-a20d-0141c0055ae6",
   "metadata": {},
   "outputs": [],
   "source": [
    "# Sonucu göster\n",
    "cv2.imshow(\"YOLOv3-tiny Detection\", img)\n",
    "cv2.waitKey(0)\n",
    "cv2.destroyAllWindows()\n"
   ]
  },
  {
   "cell_type": "code",
   "execution_count": null,
   "id": "193d2ac1-346b-4aed-a8c5-3103b830fd40",
   "metadata": {},
   "outputs": [],
   "source": []
  },
  {
   "cell_type": "code",
   "execution_count": null,
   "id": "765373ab-5b3b-4d37-949a-4bdf7b1140c5",
   "metadata": {},
   "outputs": [],
   "source": []
  }
 ],
 "metadata": {
  "kernelspec": {
   "display_name": "Python 3 (ipykernel)",
   "language": "python",
   "name": "python3"
  },
  "language_info": {
   "codemirror_mode": {
    "name": "ipython",
    "version": 3
   },
   "file_extension": ".py",
   "mimetype": "text/x-python",
   "name": "python",
   "nbconvert_exporter": "python",
   "pygments_lexer": "ipython3",
   "version": "3.10.18"
  }
 },
 "nbformat": 4,
 "nbformat_minor": 5
}
