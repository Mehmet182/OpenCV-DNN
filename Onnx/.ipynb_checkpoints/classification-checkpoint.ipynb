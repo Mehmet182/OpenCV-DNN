{
 "cells": [
  {
   "cell_type": "code",
   "execution_count": 1,
   "id": "e4804367-7ef8-43d5-b425-f78f6b6f25a1",
   "metadata": {
    "ExecuteTime": {
     "end_time": "2025-07-29T14:05:16.414909Z",
     "start_time": "2025-07-29T14:05:15.926847Z"
    }
   },
   "outputs": [],
   "source": [
    "import cv2\n",
    "import numpy as np\n",
    "import matplotlib.pyplot as plt\n",
    "import os"
   ]
  },
  {
   "cell_type": "code",
   "execution_count": 30,
   "id": "f971f00e-ef74-47fc-9704-2fd3b3fec53a",
   "metadata": {},
   "outputs": [],
   "source": [
    "model_path=\"yolo11n-cls/yolo11n-cls.onnx\"\n",
    "classes_path=\"yolo11n-cls/yolo11n-cls.txt\"\n",
    "image_path=\"../photo/car.jpg\""
   ]
  },
  {
   "cell_type": "code",
   "execution_count": 32,
   "id": "7c1bac97-f3ff-4227-aaa1-b794a8a6505e",
   "metadata": {},
   "outputs": [
    {
     "name": "stdout",
     "output_type": "stream",
     "text": [
      "Current Working Directory: C:\\Users\\Monster\\OneDrive\\Masaüstü\\OpencvDnn\\Onnx\n",
      "model Dosyası Var mı?: True\n",
      "class Dosyası Var mı?: True\n",
      "image Var mı?: True\n"
     ]
    }
   ],
   "source": [
    "print(\"Current Working Directory:\", os.getcwd())\n",
    "print(\"model Dosyası Var mı?:\", os.path.exists(model_path))\n",
    "print(\"class Dosyası Var mı?:\", os.path.exists(classes_path))\n",
    "print(\"image Var mı?:\", os.path.exists(image_path))"
   ]
  },
  {
   "cell_type": "code",
   "execution_count": 19,
   "id": "61c1892b-0245-4ac6-8f2a-acc46a9fa44c",
   "metadata": {},
   "outputs": [],
   "source": [
    "# ---------- Sınıf isimlerini yükle ----------\n",
    "with open(classes_path, \"r\") as f:\n",
    "    class_names = [line.strip() for line in f]\n",
    "num_classes = len(class_names)"
   ]
  },
  {
   "cell_type": "code",
   "execution_count": null,
   "id": "b2b81797-aa17-4833-888d-1e5db06c66bf",
   "metadata": {
    "scrolled": true
   },
   "outputs": [],
   "source": [
    "#print(class_names)"
   ]
  },
  {
   "cell_type": "code",
   "execution_count": null,
   "id": "347ac497-13da-4247-b82b-8ab4c5c1ecec",
   "metadata": {},
   "outputs": [],
   "source": [
    "net = cv2.dnn.readNetFromONNX(model_path) "
   ]
  },
  {
   "cell_type": "code",
   "execution_count": null,
   "id": "35eba060-bfd2-4230-97c7-6db093a74fc1",
   "metadata": {},
   "outputs": [],
   "source": [
    "image = cv2.imread(image_path)\n",
    "original = image.copy()\n",
    "input_size = 224"
   ]
  },
  {
   "cell_type": "code",
   "execution_count": 38,
   "id": "b8a855b1-f8b2-4361-821e-511ce6e4711a",
   "metadata": {},
   "outputs": [],
   "source": [
    "blob = cv2.dnn.blobFromImage(image, 1/255.0, (input_size, input_size), swapRB=True, crop=True)\n",
    "net.setInput(blob)"
   ]
  },
  {
   "cell_type": "code",
   "execution_count": 40,
   "id": "e9a68662-d925-45bc-9aaf-f93b69e4cbe4",
   "metadata": {},
   "outputs": [],
   "source": [
    "output = net.forward()\n",
    "class_id = np.argmax(output)\n",
    "confidence = output[0][class_id]"
   ]
  },
  {
   "cell_type": "code",
   "execution_count": 42,
   "id": "459b9758-182b-4178-b1be-5ae4a9fa2e4b",
   "metadata": {},
   "outputs": [
    {
     "name": "stdout",
     "output_type": "stream",
     "text": [
      "Tahmin: tabby: 0.94\n"
     ]
    }
   ],
   "source": [
    "label = f\"{class_names[class_id]}: {confidence:.2f}\"\n",
    "print(\"Tahmin:\", label)"
   ]
  },
  {
   "cell_type": "code",
   "execution_count": 44,
   "id": "085184d4-7fa2-4b0e-8fdd-a2bc05c0bde9",
   "metadata": {},
   "outputs": [],
   "source": [
    "# --- Orijinal büyük görsel üzerine yaz ---\n"
   ]
  },
  {
   "cell_type": "code",
   "execution_count": null,
   "id": "f3226c2a-a033-4817-82d0-56daab3e6afa",
   "metadata": {},
   "outputs": [],
   "source": [
    "cv2.putText(original, label, (30, 50), cv2.FONT_HERSHEY_SIMPLEX, 1.2, (0, 255, 0), 3)\n",
    "cv2.namedWindow(\"Sınıflandırma Sonucu\", cv2.WINDOW_NORMAL)\n",
    "cv2.imshow(\"Sınıflandırma Sonucu\", original)\n",
    "cv2.waitKey(0)\n",
    "cv2.destroyAllWindows()"
   ]
  },
  {
   "cell_type": "code",
   "execution_count": null,
   "id": "88e9225d-9c2e-49e6-a416-71b21b386ef7",
   "metadata": {},
   "outputs": [],
   "source": []
  }
 ],
 "metadata": {
  "kernelspec": {
   "display_name": "gorsel_isleme",
   "language": "python",
   "name": "gorsel_isleme"
  },
  "language_info": {
   "codemirror_mode": {
    "name": "ipython",
    "version": 3
   },
   "file_extension": ".py",
   "mimetype": "text/x-python",
   "name": "python",
   "nbconvert_exporter": "python",
   "pygments_lexer": "ipython3",
   "version": "3.10.18"
  }
 },
 "nbformat": 4,
 "nbformat_minor": 5
}
